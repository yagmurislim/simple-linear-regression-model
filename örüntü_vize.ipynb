{
 "cells": [
  {
   "cell_type": "code",
   "execution_count": 89,
   "id": "efc70c3e",
   "metadata": {},
   "outputs": [],
   "source": [
    "import pandas as pd\n",
    "import numpy as np\n",
    "import matplotlib.pyplot as plt\n",
    "from sklearn.model_selection import train_test_split\n",
    "from sklearn.linear_model import LinearRegression\n",
    "from sklearn.metrics import r2_score, mean_absolute_error, mean_squared_error"
   ]
  },
  {
   "cell_type": "code",
   "execution_count": 90,
   "id": "80b9b816",
   "metadata": {},
   "outputs": [
    {
     "data": {
      "text/html": [
       "<div>\n",
       "<style scoped>\n",
       "    .dataframe tbody tr th:only-of-type {\n",
       "        vertical-align: middle;\n",
       "    }\n",
       "\n",
       "    .dataframe tbody tr th {\n",
       "        vertical-align: top;\n",
       "    }\n",
       "\n",
       "    .dataframe thead th {\n",
       "        text-align: right;\n",
       "    }\n",
       "</style>\n",
       "<table border=\"1\" class=\"dataframe\">\n",
       "  <thead>\n",
       "    <tr style=\"text-align: right;\">\n",
       "      <th></th>\n",
       "      <th>fiyat</th>\n",
       "      <th>yasi</th>\n",
       "      <th>renk</th>\n",
       "      <th>gun</th>\n",
       "      <th>km</th>\n",
       "    </tr>\n",
       "  </thead>\n",
       "  <tbody>\n",
       "    <tr>\n",
       "      <th>0</th>\n",
       "      <td>82.000</td>\n",
       "      <td>2021</td>\n",
       "      <td>mavi</td>\n",
       "      <td>30</td>\n",
       "      <td>1.5</td>\n",
       "    </tr>\n",
       "    <tr>\n",
       "      <th>1</th>\n",
       "      <td>52.500</td>\n",
       "      <td>2021</td>\n",
       "      <td>beyaz</td>\n",
       "      <td>23</td>\n",
       "      <td>4.0</td>\n",
       "    </tr>\n",
       "    <tr>\n",
       "      <th>2</th>\n",
       "      <td>14.528</td>\n",
       "      <td>2020</td>\n",
       "      <td>beyaz</td>\n",
       "      <td>12</td>\n",
       "      <td>0.0</td>\n",
       "    </tr>\n",
       "    <tr>\n",
       "      <th>3</th>\n",
       "      <td>14.000</td>\n",
       "      <td>2021</td>\n",
       "      <td>kirmizi</td>\n",
       "      <td>10</td>\n",
       "      <td>0.0</td>\n",
       "    </tr>\n",
       "    <tr>\n",
       "      <th>4</th>\n",
       "      <td>18.500</td>\n",
       "      <td>2021</td>\n",
       "      <td>siyah</td>\n",
       "      <td>20</td>\n",
       "      <td>0.0</td>\n",
       "    </tr>\n",
       "    <tr>\n",
       "      <th>...</th>\n",
       "      <td>...</td>\n",
       "      <td>...</td>\n",
       "      <td>...</td>\n",
       "      <td>...</td>\n",
       "      <td>...</td>\n",
       "    </tr>\n",
       "    <tr>\n",
       "      <th>94</th>\n",
       "      <td>18.500</td>\n",
       "      <td>2015</td>\n",
       "      <td>gri</td>\n",
       "      <td>33</td>\n",
       "      <td>45000.0</td>\n",
       "    </tr>\n",
       "    <tr>\n",
       "      <th>95</th>\n",
       "      <td>71.000</td>\n",
       "      <td>2016</td>\n",
       "      <td>mavi</td>\n",
       "      <td>33</td>\n",
       "      <td>21500.0</td>\n",
       "    </tr>\n",
       "    <tr>\n",
       "      <th>96</th>\n",
       "      <td>15.000</td>\n",
       "      <td>2016</td>\n",
       "      <td>siyah</td>\n",
       "      <td>33</td>\n",
       "      <td>48000.0</td>\n",
       "    </tr>\n",
       "    <tr>\n",
       "      <th>97</th>\n",
       "      <td>26.000</td>\n",
       "      <td>2019</td>\n",
       "      <td>beyaz</td>\n",
       "      <td>33</td>\n",
       "      <td>5000.0</td>\n",
       "    </tr>\n",
       "    <tr>\n",
       "      <th>98</th>\n",
       "      <td>24.000</td>\n",
       "      <td>2020</td>\n",
       "      <td>gri</td>\n",
       "      <td>33</td>\n",
       "      <td>8400.0</td>\n",
       "    </tr>\n",
       "  </tbody>\n",
       "</table>\n",
       "<p>99 rows × 5 columns</p>\n",
       "</div>"
      ],
      "text/plain": [
       "     fiyat  yasi     renk  gun       km\n",
       "0   82.000  2021     mavi   30      1.5\n",
       "1   52.500  2021    beyaz   23      4.0\n",
       "2   14.528  2020    beyaz   12      0.0\n",
       "3   14.000  2021  kirmizi   10      0.0\n",
       "4   18.500  2021    siyah   20      0.0\n",
       "..     ...   ...      ...  ...      ...\n",
       "94  18.500  2015      gri   33  45000.0\n",
       "95  71.000  2016     mavi   33  21500.0\n",
       "96  15.000  2016    siyah   33  48000.0\n",
       "97  26.000  2019    beyaz   33   5000.0\n",
       "98  24.000  2020      gri   33   8400.0\n",
       "\n",
       "[99 rows x 5 columns]"
      ]
     },
     "execution_count": 90,
     "metadata": {},
     "output_type": "execute_result"
    }
   ],
   "source": [
    "df = pd.read_csv('C:\\\\Users\\\\LENOVO\\\\Desktop\\\\örüntütanım\\\\vize.csv',sep=\";\")\n",
    "df"
   ]
  },
  {
   "cell_type": "code",
   "execution_count": 91,
   "id": "07d0a260",
   "metadata": {},
   "outputs": [
    {
     "data": {
      "text/html": [
       "<div>\n",
       "<style scoped>\n",
       "    .dataframe tbody tr th:only-of-type {\n",
       "        vertical-align: middle;\n",
       "    }\n",
       "\n",
       "    .dataframe tbody tr th {\n",
       "        vertical-align: top;\n",
       "    }\n",
       "\n",
       "    .dataframe thead th {\n",
       "        text-align: right;\n",
       "    }\n",
       "</style>\n",
       "<table border=\"1\" class=\"dataframe\">\n",
       "  <thead>\n",
       "    <tr style=\"text-align: right;\">\n",
       "      <th></th>\n",
       "      <th>fiyat</th>\n",
       "      <th>yasi</th>\n",
       "      <th>gun</th>\n",
       "      <th>km</th>\n",
       "    </tr>\n",
       "  </thead>\n",
       "  <tbody>\n",
       "    <tr>\n",
       "      <th>count</th>\n",
       "      <td>99.000000</td>\n",
       "      <td>99.000000</td>\n",
       "      <td>99.000000</td>\n",
       "      <td>99.000000</td>\n",
       "    </tr>\n",
       "    <tr>\n",
       "      <th>mean</th>\n",
       "      <td>35.993697</td>\n",
       "      <td>2000.464646</td>\n",
       "      <td>27.191919</td>\n",
       "      <td>9033.671232</td>\n",
       "    </tr>\n",
       "    <tr>\n",
       "      <th>std</th>\n",
       "      <td>40.558792</td>\n",
       "      <td>181.905577</td>\n",
       "      <td>8.578184</td>\n",
       "      <td>27732.321742</td>\n",
       "    </tr>\n",
       "    <tr>\n",
       "      <th>min</th>\n",
       "      <td>1.180000</td>\n",
       "      <td>209.000000</td>\n",
       "      <td>4.000000</td>\n",
       "      <td>0.000000</td>\n",
       "    </tr>\n",
       "    <tr>\n",
       "      <th>25%</th>\n",
       "      <td>15.654500</td>\n",
       "      <td>2016.000000</td>\n",
       "      <td>25.000000</td>\n",
       "      <td>0.000000</td>\n",
       "    </tr>\n",
       "    <tr>\n",
       "      <th>50%</th>\n",
       "      <td>22.650000</td>\n",
       "      <td>2020.000000</td>\n",
       "      <td>30.000000</td>\n",
       "      <td>3.880000</td>\n",
       "    </tr>\n",
       "    <tr>\n",
       "      <th>75%</th>\n",
       "      <td>32.733000</td>\n",
       "      <td>2021.000000</td>\n",
       "      <td>33.000000</td>\n",
       "      <td>4700.000000</td>\n",
       "    </tr>\n",
       "    <tr>\n",
       "      <th>max</th>\n",
       "      <td>205.000000</td>\n",
       "      <td>2021.000000</td>\n",
       "      <td>33.000000</td>\n",
       "      <td>244000.000000</td>\n",
       "    </tr>\n",
       "  </tbody>\n",
       "</table>\n",
       "</div>"
      ],
      "text/plain": [
       "            fiyat         yasi        gun             km\n",
       "count   99.000000    99.000000  99.000000      99.000000\n",
       "mean    35.993697  2000.464646  27.191919    9033.671232\n",
       "std     40.558792   181.905577   8.578184   27732.321742\n",
       "min      1.180000   209.000000   4.000000       0.000000\n",
       "25%     15.654500  2016.000000  25.000000       0.000000\n",
       "50%     22.650000  2020.000000  30.000000       3.880000\n",
       "75%     32.733000  2021.000000  33.000000    4700.000000\n",
       "max    205.000000  2021.000000  33.000000  244000.000000"
      ]
     },
     "execution_count": 91,
     "metadata": {},
     "output_type": "execute_result"
    }
   ],
   "source": [
    "df.describe()"
   ]
  },
  {
   "cell_type": "code",
   "execution_count": 92,
   "id": "4d3edcec",
   "metadata": {},
   "outputs": [],
   "source": [
    "df.fiyat = (df.fiyat - df.fiyat.min() )/ (df.fiyat.max() - df.fiyat.min())\n",
    "df.km = (df.km - df.km.min() )/ (df.km.max() - df.km.min())"
   ]
  },
  {
   "cell_type": "code",
   "execution_count": 93,
   "id": "18d85eb4",
   "metadata": {},
   "outputs": [],
   "source": [
    "X = df.km#bagımsız degişken\n",
    "y = df.fiyat#bagımlı degişken"
   ]
  },
  {
   "cell_type": "code",
   "execution_count": 94,
   "id": "2e8e8b8c",
   "metadata": {},
   "outputs": [
    {
     "data": {
      "text/plain": [
       "Text(0.5, 1.0, 'kilometre fiyat arasındaki ilişki')"
      ]
     },
     "execution_count": 94,
     "metadata": {},
     "output_type": "execute_result"
    },
    {
     "data": {
      "image/png": "[encoded data removed]",
      "text/plain": [
       "<Figure size 432x288 with 1 Axes>"
      ]
     },
     "metadata": {
      "needs_background": "light"
     },
     "output_type": "display_data"
    }
   ],
   "source": [
    "plt.scatter(X.values,y.values,color=\"red\")\n",
    "plt.xlabel('kilometre')\n",
    "plt.ylabel('fiyat')\n",
    "plt.title('kilometre fiyat arasındaki ilişki')"
   ]
  },
  {
   "cell_type": "code",
   "execution_count": 95,
   "id": "ca600b76",
   "metadata": {},
   "outputs": [],
   "source": [
    "from sklearn.model_selection import train_test_split\n",
    "X_train,X_test,y_train,y_test = train_test_split(X,y,test_size=0.20, random_state=0)"
   ]
  },
  {
   "cell_type": "code",
   "execution_count": null,
   "id": "58e8dbab",
   "metadata": {},
   "outputs": [],
   "source": [
    "lineer_regresyon.fit(X_train, y_train, epochs=5)"
   ]
  },
  {
   "cell_type": "code",
   "execution_count": 96,
   "id": "7155642c",
   "metadata": {},
   "outputs": [],
   "source": [
    "lineer_regresyon = LinearRegression()"
   ]
  },
  {
   "cell_type": "code",
   "execution_count": 97,
   "id": "9a568b11",
   "metadata": {},
   "outputs": [
    {
     "data": {
      "text/plain": [
       "LinearRegression()"
      ]
     },
     "execution_count": 97,
     "metadata": {},
     "output_type": "execute_result"
    }
   ],
   "source": [
    "lineer_regresyon.fit(X.values.reshape(-1,1),y.values.reshape(-1,1))\n"
   ]
  },
  {
   "cell_type": "code",
   "execution_count": 99,
   "id": "d86c7002",
   "metadata": {},
   "outputs": [
    {
     "data": {
      "text/plain": [
       "array([0.14815508])"
      ]
     },
     "execution_count": 99,
     "metadata": {},
     "output_type": "execute_result"
    }
   ],
   "source": [
    "lineer_regresyon.intercept_\n"
   ]
  },
  {
   "cell_type": "code",
   "execution_count": 100,
   "id": "8060ab9d",
   "metadata": {},
   "outputs": [
    {
     "data": {
      "text/plain": [
       "array([[0.61180508]])"
      ]
     },
     "execution_count": 100,
     "metadata": {},
     "output_type": "execute_result"
    }
   ],
   "source": [
    "lineer_regresyon.coef_\n"
   ]
  },
  {
   "cell_type": "code",
   "execution_count": 101,
   "id": "ff4e5105",
   "metadata": {},
   "outputs": [
    {
     "name": "stdout",
     "output_type": "stream",
     "text": [
      "Elde edilen regresyon modeli: Y=[0.14815508]+[0.61180508]X\n"
     ]
    }
   ],
   "source": [
    "print(\"Elde edilen regresyon modeli: Y={}+{}X\".format(lineer_regresyon.intercept_,lineer_regresyon.coef_[0]))"
   ]
  },
  {
   "cell_type": "code",
   "execution_count": 102,
   "id": "4b552528",
   "metadata": {},
   "outputs": [],
   "source": [
    "y_tahmin = lineer_regresyon.predict(X.values.reshape(-1,1))"
   ]
  },
  {
   "cell_type": "code",
   "execution_count": 103,
   "id": "22ffb484",
   "metadata": {},
   "outputs": [
    {
     "data": {
      "text/plain": [
       "0.12210755511221039"
      ]
     },
     "execution_count": 103,
     "metadata": {},
     "output_type": "execute_result"
    }
   ],
   "source": [
    "r2_score(y,y_tahmin)"
   ]
  },
  {
   "cell_type": "code",
   "execution_count": 104,
   "id": "7198f37d",
   "metadata": {},
   "outputs": [
    {
     "name": "stdout",
     "output_type": "stream",
     "text": [
      "Ortalama Mutlak Hata: 0.11235149508246327 \n",
      "Ortalama Karesel Hata: 0.034411898111214714\n"
     ]
    }
   ],
   "source": [
    "print(\"Ortalama Mutlak Hata: {} \\nOrtalama Karesel Hata: {}\".format(\n",
    "    mean_absolute_error(y, y_tahmin), mean_squared_error(y, y_predicted)))"
   ]
  },
  {
   "cell_type": "code",
   "execution_count": 105,
   "id": "22075150",
   "metadata": {},
   "outputs": [
    {
     "data": {
      "text/plain": [
       "0.1855044422950963"
      ]
     },
     "execution_count": 105,
     "metadata": {},
     "output_type": "execute_result"
    }
   ],
   "source": [
    "mean_squared_error(y, y_predicted, squared=False)\n"
   ]
  },
  {
   "cell_type": "code",
   "execution_count": 88,
   "id": "ec7ad607",
   "metadata": {},
   "outputs": [
    {
     "data": {
      "text/plain": [
       "Text(0.5, 1.0, 'kilometre fiyat  regresyon analizi')"
      ]
     },
     "execution_count": 88,
     "metadata": {},
     "output_type": "execute_result"
    },
    {
     "data": {
      "image/png": "[encoded data removed]",
      "text/plain": [
       "<Figure size 432x288 with 1 Axes>"
      ]
     },
     "metadata": {
      "needs_background": "light"
     },
     "output_type": "display_data"
    }
   ],
   "source": [
    "random_x = np.array([0, 0.2, 0.85])\n",
    "plt.scatter(X.values, y.values)\n",
    "plt.plot(random_x,\n",
    "         lineer_regresyon.intercept_[0] +\n",
    "         lineer_regresyon.coef_[0][0] * random_x,\n",
    "         color='red',\n",
    "         label='regresyon grafiği')\n",
    "plt.xlabel('kilometre')\n",
    "plt.ylabel('Fiyat')\n",
    "plt.title('kilometre fiyat  regresyon analizi')"
   ]
  },
  {
   "cell_type": "code",
   "execution_count": null,
   "id": "b5d3fffd",
   "metadata": {},
   "outputs": [],
   "source": []
  },
  {
   "cell_type": "code",
   "execution_count": null,
   "id": "c7a3c9ef",
   "metadata": {},
   "outputs": [],
   "source": []
  }
 ],
 "metadata": {
  "kernelspec": {
   "display_name": "Python 3",
   "language": "python",
   "name": "python3"
  },
  "language_info": {
   "codemirror_mode": {
    "name": "ipython",
    "version": 3
   },
   "file_extension": ".py",
   "mimetype": "text/x-python",
   "name": "python",
   "nbconvert_exporter": "python",
   "pygments_lexer": "ipython3",
   "version": "3.8.8"
  }
 },
 "nbformat": 4,
 "nbformat_minor": 5
}
